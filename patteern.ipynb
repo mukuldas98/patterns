{
 "cells": [
  {
   "cell_type": "code",
   "execution_count": 2,
   "metadata": {},
   "outputs": [
    {
     "name": "stdout",
     "output_type": "stream",
     "text": [
      "oooooo\n",
      "oooooo\n",
      "oooooo\n",
      "oooooo\n",
      "oooooo\n"
     ]
    }
   ],
   "source": [
    "for i in range(5):\n",
    "    print(\"o\"*6)"
   ]
  },
  {
   "cell_type": "markdown",
   "metadata": {},
   "source": [
    "Question :  ooooo    \n",
    "            ooooo\n",
    "            ooooo\n",
    "            ooooo\n",
    "            ooooo"
   ]
  },
  {
   "cell_type": "code",
   "execution_count": 2,
   "metadata": {},
   "outputs": [
    {
     "name": "stdout",
     "output_type": "stream",
     "text": [
      "oooooo\n",
      "oooooo\n",
      "oooooo\n",
      "oooooo\n",
      "oooooo\n"
     ]
    }
   ],
   "source": [
    "for i in range(5):\n",
    "    for j in range(6):\n",
    "        print(\"o\", end=\"\")\n",
    "    print()"
   ]
  },
  {
   "cell_type": "markdown",
   "metadata": {},
   "source": []
  }
 ],
 "metadata": {
  "kernelspec": {
   "display_name": "Python 3",
   "language": "python",
   "name": "python3"
  },
  "language_info": {
   "codemirror_mode": {
    "name": "ipython",
    "version": 3
   },
   "file_extension": ".py",
   "mimetype": "text/x-python",
   "name": "python",
   "nbconvert_exporter": "python",
   "pygments_lexer": "ipython3",
   "version": "3.12.4"
  }
 },
 "nbformat": 4,
 "nbformat_minor": 2
}
